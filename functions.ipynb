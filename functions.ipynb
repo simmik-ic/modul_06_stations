{
 "cells": [
  {
   "cell_type": "markdown",
   "id": "49705209",
   "metadata": {},
   "source": [
    "# Jak utworzyć funkcję"
   ]
  },
  {
   "cell_type": "raw",
   "id": "0f841237",
   "metadata": {},
   "source": [
    "Aby zadeklarować funkcję, musimy użyć słowa 'def', a potem wpisać nazwę funkcji.\n",
    "Następnie w nawiasie okrągłym wpisujemy argumenty funkcji i zakończymy dwukropkiem."
   ]
  },
  {
   "cell_type": "code",
   "execution_count": 1,
   "id": "f8700bbe",
   "metadata": {},
   "outputs": [],
   "source": [
    "def dodaj2do2(a, b):\n",
    "    result = float(a)+float(b)\n",
    "    return result "
   ]
  },
  {
   "cell_type": "raw",
   "id": "ab57b986",
   "metadata": {},
   "source": [
    "Funkcję możemy wywołać, wpisując jej nazwę i kończąc nawiasem okrągłym."
   ]
  },
  {
   "cell_type": "code",
   "execution_count": 2,
   "id": "f1c96985",
   "metadata": {},
   "outputs": [],
   "source": [
    "wynik = dodaj2do2(5, 8)"
   ]
  },
  {
   "cell_type": "code",
   "execution_count": 3,
   "id": "06e1105a",
   "metadata": {},
   "outputs": [
    {
     "name": "stdout",
     "output_type": "stream",
     "text": [
      "13.0\n"
     ]
    }
   ],
   "source": [
    "print(wynik)"
   ]
  }
 ],
 "metadata": {
  "kernelspec": {
   "display_name": "Python 3 (ipykernel)",
   "language": "python",
   "name": "python3"
  },
  "language_info": {
   "codemirror_mode": {
    "name": "ipython",
    "version": 3
   },
   "file_extension": ".py",
   "mimetype": "text/x-python",
   "name": "python",
   "nbconvert_exporter": "python",
   "pygments_lexer": "ipython3",
   "version": "3.13.2"
  }
 },
 "nbformat": 4,
 "nbformat_minor": 5
}
